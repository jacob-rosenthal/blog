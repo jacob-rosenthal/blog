{
 "cells": [
  {
   "cell_type": "raw",
   "metadata": {
    "jupyter": {
     "outputs_hidden": false
    }
   },
   "source": [
    "---\n",
    "title: The Markovian Sommelier\n",
    "author: Jacob Rosenthal\n",
    "comments: false\n",
    "date: '2020-10-15'\n",
    "description: Modeling wine reviews with a Markov chain of bigrams\n",
    "image: images/robosomm/robosomm.jpg\n",
    "output-file: 2020-10-15-wine-review-generation.html\n",
    "toc: true\n",
    "---"
   ]
  },
  {
   "cell_type": "markdown",
   "metadata": {},
   "source": [
    "![Robot Sommelier](images/robosomm/robosomm.jpg)\n",
    "\n",
    "\"Rich Tannins.\"  \n",
    "\"Peppery finish.\"  \n",
    "\"Afternotes of loamy soil.\"\n",
    "\n",
    "Who writes wine descriptions, anyways? Wine reviews are practically a genre of their own, with a specific vocabulary and its own set of phrases and that I basically never see in any other context. \n",
    "\n",
    "In this projet we will make a very simple model that randomly generates new wine reviews. I will walk through each step in designing the model and implementing it!"
   ]
  },
  {
   "cell_type": "markdown",
   "metadata": {},
   "source": [
    "## Defining the model\n",
    "\n",
    "The model we will be using is a very simple Markov chain model. First, we model each wine review as a sequence of word pairs (i.e. bigrams). Then, we create new reviews by chaining together word pairs using a single rule which is used to generate the next word given the preceding word as input. We simply look through a dataset of real wine reviews and find all occurences of the preceding word, then randomly pick one of them and use whatever word followed it in that context.\n",
    "\n",
    "Here's the algorithm for generating the n-th word $w_n$ given the preceding word $w_{n-1}$ and a dataset $D$:\n",
    "\n",
    "Algorithm $g(w_n | w_{n-1}, D)$:\n",
    "\n",
    "* Find $O = \\{o_1, o_2, \\dots, o_m\\}$, the set of all $m$ occurences of $w_{n-1}$ in $D$\n",
    "* Randomly choose an occurence $o_k \\in O$  \n",
    "* Return the word immediately following $o_k$ in its original context\n",
    "\n",
    "Because the generation of each word depends only on the previous word, it is completely independent of all the other preceding words in the description so far. In other words, $P(w_n | w_{n-1}) = P(w_n | w_{n-1}, w_{n-2}, \\dots, w_{1})$. This means that our model is a [Markovian process](https://en.wikipedia.org/wiki/Markov_chain#Definition). The transition probabilities between bigrams are empirically determined from our corpus.\n",
    "\n",
    "Of course this is probably not going to be a great model, since it does not consider any of the context besides the immediately preceding word. But it can still give surprisingly good results, as it lets us capture many of the common two-word phrases which define the genre of wine reviews. \n",
    "\n",
    "Now let's take a look at implementing this model."
   ]
  },
  {
   "cell_type": "markdown",
   "metadata": {},
   "source": [
    "## Loading the Data\n",
    "\n",
    "Luckily, someone has already gone through the effort of creating a dataset of more than 280,000 real wine descriptions! These were scraped from [Wine Enthusiast](https://www.winemag.com/) and the dataset is hosted on [Kaggle](https://www.kaggle.com/zynicide/wine-reviews). The data have been downloaded and placed in the `./data` folder. The data are split into two files."
   ]
  },
  {
   "cell_type": "code",
   "execution_count": 2,
   "metadata": {
    "tags": []
   },
   "outputs": [
    {
     "name": "stdout",
     "output_type": "stream",
     "text": [
      "(129971, 14)\n",
      "(150930, 11)\n"
     ]
    }
   ],
   "source": [
    "import pandas as pd\n",
    "import numpy as np\n",
    "from collections import Counter, defaultdict\n",
    "import spacy\n",
    "\n",
    "# first load data\n",
    "data1 = pd.read_csv('./data/winemag-data-130k-v2.csv')\n",
    "data2 = pd.read_csv('./data/winemag-data_first150k.csv')\n",
    "\n",
    "print(data1.shape)\n",
    "print(data2.shape)"
   ]
  },
  {
   "cell_type": "markdown",
   "metadata": {},
   "source": [
    "Let's take a quick look at the datasets:"
   ]
  },
  {
   "cell_type": "code",
   "execution_count": 3,
   "metadata": {},
   "outputs": [
    {
     "data": {
      "text/html": [
       "<div>\n",
       "<style scoped>\n",
       "    .dataframe tbody tr th:only-of-type {\n",
       "        vertical-align: middle;\n",
       "    }\n",
       "\n",
       "    .dataframe tbody tr th {\n",
       "        vertical-align: top;\n",
       "    }\n",
       "\n",
       "    .dataframe thead th {\n",
       "        text-align: right;\n",
       "    }\n",
       "</style>\n",
       "<table border=\"1\" class=\"dataframe\">\n",
       "  <thead>\n",
       "    <tr style=\"text-align: right;\">\n",
       "      <th></th>\n",
       "      <th>Unnamed: 0</th>\n",
       "      <th>country</th>\n",
       "      <th>description</th>\n",
       "      <th>designation</th>\n",
       "      <th>points</th>\n",
       "      <th>price</th>\n",
       "      <th>province</th>\n",
       "      <th>region_1</th>\n",
       "      <th>region_2</th>\n",
       "      <th>taster_name</th>\n",
       "      <th>taster_twitter_handle</th>\n",
       "      <th>title</th>\n",
       "      <th>variety</th>\n",
       "      <th>winery</th>\n",
       "    </tr>\n",
       "  </thead>\n",
       "  <tbody>\n",
       "    <tr>\n",
       "      <th>0</th>\n",
       "      <td>0</td>\n",
       "      <td>Italy</td>\n",
       "      <td>Aromas include tropical fruit, broom, brimston...</td>\n",
       "      <td>Vulkà Bianco</td>\n",
       "      <td>87</td>\n",
       "      <td>NaN</td>\n",
       "      <td>Sicily &amp; Sardinia</td>\n",
       "      <td>Etna</td>\n",
       "      <td>NaN</td>\n",
       "      <td>Kerin O’Keefe</td>\n",
       "      <td>@kerinokeefe</td>\n",
       "      <td>Nicosia 2013 Vulkà Bianco  (Etna)</td>\n",
       "      <td>White Blend</td>\n",
       "      <td>Nicosia</td>\n",
       "    </tr>\n",
       "  </tbody>\n",
       "</table>\n",
       "</div>"
      ],
      "text/plain": [
       "   Unnamed: 0 country                                        description  \\\n",
       "0           0   Italy  Aromas include tropical fruit, broom, brimston...   \n",
       "\n",
       "    designation  points  price           province region_1 region_2  \\\n",
       "0  Vulkà Bianco      87    NaN  Sicily & Sardinia     Etna      NaN   \n",
       "\n",
       "     taster_name taster_twitter_handle                              title  \\\n",
       "0  Kerin O’Keefe          @kerinokeefe  Nicosia 2013 Vulkà Bianco  (Etna)   \n",
       "\n",
       "       variety   winery  \n",
       "0  White Blend  Nicosia  "
      ]
     },
     "execution_count": 3,
     "metadata": {},
     "output_type": "execute_result"
    }
   ],
   "source": [
    "data1.head(1)"
   ]
  },
  {
   "cell_type": "code",
   "execution_count": 4,
   "metadata": {},
   "outputs": [
    {
     "data": {
      "text/html": [
       "<div>\n",
       "<style scoped>\n",
       "    .dataframe tbody tr th:only-of-type {\n",
       "        vertical-align: middle;\n",
       "    }\n",
       "\n",
       "    .dataframe tbody tr th {\n",
       "        vertical-align: top;\n",
       "    }\n",
       "\n",
       "    .dataframe thead th {\n",
       "        text-align: right;\n",
       "    }\n",
       "</style>\n",
       "<table border=\"1\" class=\"dataframe\">\n",
       "  <thead>\n",
       "    <tr style=\"text-align: right;\">\n",
       "      <th></th>\n",
       "      <th>Unnamed: 0</th>\n",
       "      <th>country</th>\n",
       "      <th>description</th>\n",
       "      <th>designation</th>\n",
       "      <th>points</th>\n",
       "      <th>price</th>\n",
       "      <th>province</th>\n",
       "      <th>region_1</th>\n",
       "      <th>region_2</th>\n",
       "      <th>variety</th>\n",
       "      <th>winery</th>\n",
       "    </tr>\n",
       "  </thead>\n",
       "  <tbody>\n",
       "    <tr>\n",
       "      <th>0</th>\n",
       "      <td>0</td>\n",
       "      <td>US</td>\n",
       "      <td>This tremendous 100% varietal wine hails from ...</td>\n",
       "      <td>Martha's Vineyard</td>\n",
       "      <td>96</td>\n",
       "      <td>235.0</td>\n",
       "      <td>California</td>\n",
       "      <td>Napa Valley</td>\n",
       "      <td>Napa</td>\n",
       "      <td>Cabernet Sauvignon</td>\n",
       "      <td>Heitz</td>\n",
       "    </tr>\n",
       "  </tbody>\n",
       "</table>\n",
       "</div>"
      ],
      "text/plain": [
       "   Unnamed: 0 country                                        description  \\\n",
       "0           0      US  This tremendous 100% varietal wine hails from ...   \n",
       "\n",
       "         designation  points  price    province     region_1 region_2  \\\n",
       "0  Martha's Vineyard      96  235.0  California  Napa Valley     Napa   \n",
       "\n",
       "              variety winery  \n",
       "0  Cabernet Sauvignon  Heitz  "
      ]
     },
     "execution_count": 4,
     "metadata": {},
     "output_type": "execute_result"
    }
   ],
   "source": [
    "data2.head(1)"
   ]
  },
  {
   "cell_type": "markdown",
   "metadata": {},
   "source": [
    "For this model, we are only interested in the descriptions, so let's pull those out and combine all the descriptions from both files:"
   ]
  },
  {
   "cell_type": "code",
   "execution_count": 5,
   "metadata": {},
   "outputs": [
    {
     "name": "stdout",
     "output_type": "stream",
     "text": [
      "Total number of descriptions:  280901\n"
     ]
    }
   ],
   "source": [
    "descriptions = list(data1[\"description\"].values) + list(data2[\"description\"].values)\n",
    "\n",
    "# strip any leading or trailing whitespace if any\n",
    "descriptions = [string.strip() for string in descriptions]\n",
    "\n",
    "print(\"Total number of descriptions: \", len(descriptions))"
   ]
  },
  {
   "cell_type": "markdown",
   "metadata": {},
   "source": [
    "Let's take a look at a few examples:"
   ]
  },
  {
   "cell_type": "code",
   "execution_count": 6,
   "metadata": {},
   "outputs": [
    {
     "name": "stdout",
     "output_type": "stream",
     "text": [
      "Sweet mocha and coffee notes overwhelm the bouquet of this Pinot, with red raspberry and cherry skin notes providing support. Lively acidity and a satiny texture fill the mouth, while white pepper spice lingers on the finish. \n",
      "\n",
      "Hints of nail polish and flavors of hard citrus candy, with grainy honey and sugar. This is not a shy Riesling; it's intense, rich with peach and apricot, and pushed just a bit too far for some tastes. \n",
      "\n",
      "Produced by the owners of Châteauneuf-du-Pape estate Château Mont-Redon, this is a full and fruity wine. It has a good balance between acidity and red berry fruits that give a rich character. Packed with flavor, it's ready to drink. \n",
      "\n"
     ]
    }
   ],
   "source": [
    "for item in np.random.choice(descriptions, size = 3): print(item, \"\\n\")"
   ]
  },
  {
   "cell_type": "markdown",
   "metadata": {},
   "source": [
    "## Preprocessing the Data\n",
    "\n",
    "Now we need to process the data to get ready for our model. But what is the best way to do this?\n",
    "\n",
    "### Data Structure\n",
    "\n",
    "First we need to choose the data structure we will use. At its heart, our model relies on consectutive word pairs. So we could parse our dataset into a list of all word pairs, and then generate by filtering the list and randomly choosing. \n",
    "\n",
    "However, we know that many of the word pairs will appear quite frequently! If we just parse into a list of all word pairs, we might have 100 identical entries on our list for \"rich tannins.\" We can instead count how times a word pair occurs, and keep track of the counts of all the tokens. When it comes time to sample the next word, we can simply use probabilities proportional to the counts instead of uniformly sampling! This will let us generate words without having to process the entire set of all the token pairs in our entire dataset.\n",
    "\n",
    "In python, we will implement this as a dictionary, where each key is a token. I'll call this our vocabulary. The corresponding values are dictionaries themselves containing counts of all the tokens that followed.\n",
    "\n",
    "### Tokenizing\n",
    "\n",
    "Each descriptions in the dataset is a single string. We need to divide the descriptions into their individual words, so we can count the word pairs. This process is called *tokenization*, where we divide the input into a set of tokens. \n",
    "\n",
    "Rather than doing this from scratch, we will use a pre-made tokenizer from Spacy. The advantage of this is that the pre-made tokenizer is smart enough to handle things like puncuation."
   ]
  },
  {
   "cell_type": "code",
   "execution_count": 7,
   "metadata": {},
   "outputs": [
    {
     "name": "stdout",
     "output_type": "stream",
     "text": [
      "Total number of words: 45481\n",
      "CPU times: user 1min 25s, sys: 404 ms, total: 1min 26s\n",
      "Wall time: 1min 27s\n"
     ]
    }
   ],
   "source": [
    "%%time\n",
    "\n",
    "# use pre-made tokenizer from spacy\n",
    "nlp = spacy.load(\"en_core_web_sm\")\n",
    "\n",
    "# a dictionary will be used to hold the vocabulary\n",
    "# each item in the vocabulary will have a counter to track which words follow it\n",
    "pair_freq = defaultdict(Counter)\n",
    "\n",
    "# make a special end of sentence token\n",
    "end_token = \"END_TOKEN\"\n",
    "\n",
    "# process all the descriptions\n",
    "# disabling unneeded components in the pipeline to speed it up\n",
    "for description in nlp.pipe(descriptions, disable=[\"tagger\", \"parser\", \"ner\"]):\n",
    "    # for each token, update the counts of the following word\n",
    "    for token in description:\n",
    "        # get the following token\n",
    "        try:\n",
    "            neighbor = token.nbor().text\n",
    "        except IndexError:\n",
    "            neighbor = end_token\n",
    "        \n",
    "        pair_freq[token.text][neighbor] += 1\n",
    "\n",
    "vocab = list(pair_freq.keys())\n",
    "print(\"Total number of words:\", len(vocab))"
   ]
  },
  {
   "cell_type": "code",
   "execution_count": 10,
   "metadata": {},
   "outputs": [],
   "source": [
    "import json\n",
    "with open('robosomm_data.json', 'w') as fp:\n",
    "    json.dump(pair_freq, fp)"
   ]
  },
  {
   "cell_type": "code",
   "execution_count": 11,
   "metadata": {},
   "outputs": [],
   "source": [
    "import pickle\n",
    "with open('robosomm_data.pickle', 'wb') as handle:\n",
    "    pickle.dump(pair_freq, handle)"
   ]
  },
  {
   "cell_type": "markdown",
   "metadata": {},
   "source": [
    "Our vocabulary consists of more than 45,000 unique words!\n",
    "\n",
    "Let's look at some random examples of word pairs:"
   ]
  },
  {
   "cell_type": "code",
   "execution_count": 17,
   "metadata": {},
   "outputs": [
    {
     "name": "stdout",
     "output_type": "stream",
     "text": [
      "dottings of\n",
      "ripper ,\n",
      "colada ,\n",
      "assemblng quite\n",
      "blackberry clusters\n",
      "gallo salsa\n",
      "Barefoot sparkling\n",
      "sections that\n",
      "Carpoli has\n",
      "sauvage wildness\n"
     ]
    }
   ],
   "source": [
    "for token1 in np.random.choice(vocab, size = 10): \n",
    "    all_following = list(pair_freq[token1].keys())\n",
    "    token2 = np.random.choice(all_following)\n",
    "    print(token1, token2)"
   ]
  },
  {
   "cell_type": "markdown",
   "metadata": {},
   "source": [
    "## Implementing the model\n",
    "\n",
    "First, we implement our function to generate the next word. \n",
    "Because we preprocessed the data in a smart way, this is actually very simple!"
   ]
  },
  {
   "cell_type": "code",
   "execution_count": 10,
   "metadata": {},
   "outputs": [],
   "source": [
    "# functions to generate text\n",
    "def gen_next_word(word):\n",
    "    \"\"\"Generate the next word given the preceding word\"\"\"\n",
    "    # Get the counter for the following words\n",
    "    all_following = pair_freq[word]\n",
    "    # Get the words themselves, and corresponding counts\n",
    "    following_words = list(all_following.keys())\n",
    "    counts = np.array(list(all_following.values()))\n",
    "    # Randomly sample the next word \n",
    "    weights = counts / np.sum(counts)\n",
    "    return np.random.choice(following_words, p = weights)"
   ]
  },
  {
   "cell_type": "markdown",
   "metadata": {},
   "source": [
    "Now to generate a description from scratch, we just use a loop to continuously generate the next word! The loop stops when we either hit the special end-os-sentence token, or when we reach a maximum description length."
   ]
  },
  {
   "cell_type": "code",
   "execution_count": 11,
   "metadata": {},
   "outputs": [],
   "source": [
    "def generate_description(prompt):  \n",
    "    \"\"\"Generate a wine descriptions given a prompt\"\"\"\n",
    "    prompt_doc = nlp(prompt)\n",
    "    \n",
    "    # set up the while loop\n",
    "    current_text = prompt\n",
    "    last_word = prompt_doc[-1].text\n",
    "    not_end_token = True\n",
    "    max_desc_length = 100\n",
    "    c = 0\n",
    "    \n",
    "    while not_end_token and c < max_desc_length:\n",
    "        next_word = gen_next_word(last_word)\n",
    "        if next_word == end_token:\n",
    "            not_end_token = False\n",
    "        else:\n",
    "            current_text += \" \"+next_word\n",
    "            last_word = next_word\n",
    "            c += 1\n",
    "    \n",
    "    return current_text"
   ]
  },
  {
   "cell_type": "markdown",
   "metadata": {},
   "source": [
    "## Trying it out!\n",
    "\n",
    "Now we can generate our own wine reviews! Let's look at a few examples:"
   ]
  },
  {
   "cell_type": "code",
   "execution_count": 29,
   "metadata": {},
   "outputs": [
    {
     "data": {
      "text/plain": [
       "\"A fruity merlot, with a smoky oak . The black tea and toasty oak , apricot , allied to the next six years of lively , it 's an apéritif wine very tight and soft , it too extracted Malbec . Best now . Now–2014 .\""
      ]
     },
     "execution_count": 29,
     "metadata": {},
     "output_type": "execute_result"
    }
   ],
   "source": [
    "generate_description(\"A fruity merlot, with a smoky\")"
   ]
  },
  {
   "cell_type": "code",
   "execution_count": 20,
   "metadata": {},
   "outputs": [
    {
     "data": {
      "text/plain": [
       "\"A full bodied cabernet sauvignon . It has honey , it 's a delicious , and berry fruits and rich future .\""
      ]
     },
     "execution_count": 20,
     "metadata": {},
     "output_type": "execute_result"
    }
   ],
   "source": [
    "generate_description(\"A full bodied cabernet\")"
   ]
  },
  {
   "cell_type": "code",
   "execution_count": 23,
   "metadata": {},
   "outputs": [
    {
     "data": {
      "text/plain": [
       "'Spicy cinnamon , it would pair with hearty mouthful of Pinot they are tougher , currants , cherries lead to the finish .'"
      ]
     },
     "execution_count": 23,
     "metadata": {},
     "output_type": "execute_result"
    }
   ],
   "source": [
    "generate_description(\"Spicy\")"
   ]
  },
  {
   "cell_type": "code",
   "execution_count": 35,
   "metadata": {},
   "outputs": [
    {
     "data": {
      "text/plain": [
       "'This wine is terrible flaws here . In the black fruit . It feels tight tannins , luscious and fresh and sophisticated notes , this wine offers aromas emerge with ample cherry flavors . The finish is very impressive is a bit of cherry , which offers a shame to soften . In the ripe and Mourvèdre , with suggesting wet cement , juicy and bitter , this 100 % Syrah with just yearning to say that will put in French oak flavors are certified - dimensional in the perfumes , packed with mixed with mature fruit and minerality and a final indication of'"
      ]
     },
     "execution_count": 35,
     "metadata": {},
     "output_type": "execute_result"
    }
   ],
   "source": [
    "generate_description(\"This wine is terrible\")"
   ]
  },
  {
   "cell_type": "markdown",
   "metadata": {},
   "source": [
    "## Conclusion\n",
    "\n",
    "There we have it! A (very rudimentary) text generation model!\n",
    "\n",
    "The descriptions certainly aren't great - I don't think any human would be fooled! However, given how rudimentary our model is, the results are surprisingly good. The sentences are mostly coherent, and they also do well at capturing the  vocabulary and phrases distinctive of the wine description genre! This shows how even the simplest model can \"learn\" features distinctive of the dataset it was trained on.\n",
    "\n",
    "Of course we could improve on this model by using 3-grams or 4-grams instead of bigrams, which would let us capture more context. Or, we could use NLP methods that are much better than Markov chains! Recurrent neural networks, transformers, etc... Maybe we'll look at those in a future notebook.\n",
    "\n",
    "In the meantime, enjoy this Markovian Sommelier!"
   ]
  }
 ],
 "metadata": {
  "kernelspec": {
   "display_name": "Python 3 (ipykernel)",
   "language": "python",
   "name": "python3"
  },
  "language_info": {
   "codemirror_mode": {
    "name": "ipython",
    "version": 3
   },
   "file_extension": ".py",
   "mimetype": "text/x-python",
   "name": "python",
   "nbconvert_exporter": "python",
   "pygments_lexer": "ipython3",
   "version": "3.10.11"
  },
  "toc": {
   "base_numbering": 1,
   "nav_menu": {},
   "number_sections": false,
   "sideBar": true,
   "skip_h1_title": true,
   "title_cell": "Table of Contents",
   "title_sidebar": "Contents",
   "toc_cell": true,
   "toc_position": {},
   "toc_section_display": true,
   "toc_window_display": true
  }
 },
 "nbformat": 4,
 "nbformat_minor": 4
}
